{
 "cells": [
  {
   "cell_type": "markdown",
   "metadata": {
    "_uuid": "73873f230bd2c242dc9e4ed1a7206a0f113222e9"
   },
   "source": [
    "# News Analytics and Stock Price Performance: Model Tuning and Selection (part 3)\n",
    "----"
   ]
  },
  {
   "cell_type": "markdown",
   "metadata": {
    "_uuid": "ca0d58e7586ab42a081c873812d384631a5a0c96"
   },
   "source": [
    "Can we use news analytics and market data to predict stock price performance? There is no doubt that the ubiquity of data today enables investors at any scale to make better investment decisions but to truly harness this power, we must be able to distinguish signal from noise.\n",
    "\n",
    "This is a 3 part walkthrough of a Kaggle competition by Two Sigma, with the end result being a model that predicts a signed confidence of an assets fluctuation over a ten-day window.\n",
    "\n",
    "$$\\widehat{y}_{ti}\\in[-1, 1]$$\n",
    "\n",
    "Initially, I was a little confused with the evaluation process here.  Most people think of stock market predictions as being regression problems but this seemed like a binary classification problem to me.  An asset either has a positive or a negative return, with the signed confidence being used to indicate both the direction and the magnitude of this move.\n",
    "\n",
    "as mentioned above, the signed confidence interval needs to be between [-1 and 1].  Binary classification models are going to output a probability, naturally being a number between 0 and 1.  So in order to get the output of my model to conform to this structure, I decided I would multiply my predicted value by 2 and then subtract 1.  If the predicted probability is 0, this will cause the output to be -1 and if the predicted probability is 1, then the output will be 1.\n",
    "\n",
    "\n",
    "For each day in the evaluation time period, we calculate:\n",
    "$$x_{t}=\\sum_{i}\\widehat{y}_{ti}r_{ti}u_{ti}$$\n",
    "$$score=\\frac{\\bar{x}_{t}}{\\sigma (x_{t})}$$\n",
    "\n",
    "where $r_{ti}$ is the 10-day market-adjusted leading return for day $t$ for instrument $i$, and $u_{ti}$ is a 0/1 universe variable that controls whether a particular asset is included in scoring on a particular day.\n",
    "\n",
    "Your submission score is then calculated as the mean divided by the standard deviation of your daily $x_{t}$ values:\n",
    "\n",
    "If the standard deviation of predictions is 0, the score is defined as 0.\n",
    "\n",
    "Two sources of data for this competition:\n",
    "\n",
    "Market data (2007 to present) provided by Intrinio - contains financial market information such as opening price, closing price, trading volume, calculated returns, etc.\n",
    "\n",
    "News data (2007 to present) Source: Thomson Reuters - contains information about news articles/alerts published about assets, such as article details, sentiment, and other commentary.\n",
    "\n",
    "There are 3 notebooks for this walkthrough.  The first includes all of the EDA for both datasets.  In the second, I walk through feature preprocessing, exploration and engineering.  Finally, in the third notebook,  I build, test and tune multiple machine learning models."
   ]
  },
  {
   "cell_type": "code",
   "execution_count": 1,
   "metadata": {
    "_cell_guid": "b1076dfc-b9ad-4769-8c92-a6c4dae69d19",
    "_uuid": "8f2839f25d086af736a60e9eeb907d3b93b6e0e5",
    "collapsed": true
   },
   "outputs": [],
   "source": [
    "import numpy as np\n",
    "import pandas as pd\n",
    "import os\n",
    "from kaggle.competitions import twosigmanews\n",
    "import matplotlib.pyplot as plt\n",
    "import seaborn as sns; sns.set()\n",
    "from sklearn.model_selection import train_test_split\n",
    "from sklearn import ensemble\n",
    "from sklearn.metrics import accuracy_score\n",
    "from xgboost import XGBClassifier\n",
    "from lightgbm import LGBMClassifier\n",
    "import category_encoders as ce\n",
    "from xgboost import plot_importance\n",
    "import warnings\n",
    "import gc\n",
    "import psutil\n",
    "warnings.filterwarnings('ignore')\n",
    "%matplotlib inline"
   ]
  },
  {
   "cell_type": "code",
   "execution_count": 2,
   "metadata": {
    "_cell_guid": "79c7e3d0-c299-4dcb-8224-4455121ee9b0",
    "_uuid": "d629ff2d2480ee46fbb7e2d37f6b5fab8052498a",
    "collapsed": true
   },
   "outputs": [],
   "source": [
    "# Function to keep track of memory usage.  These DataFrames represent 10+ million rows and consume a lot of RAM\n",
    "def cpuStats():\n",
    "    pid = os.getpid()\n",
    "    py = psutil.Process(pid)\n",
    "    memoryUse = py.memory_info()[0] / 2. ** 30\n",
    "    return 'memory GB:' + str(np.round(memoryUse, 2))"
   ]
  },
  {
   "cell_type": "code",
   "execution_count": 3,
   "metadata": {
    "_uuid": "838f8057b7ab27aa2aebbe704e72dc1283337477"
   },
   "outputs": [
    {
     "data": {
      "text/plain": [
       "'memory GB:0.26'"
      ]
     },
     "execution_count": 3,
     "metadata": {},
     "output_type": "execute_result"
    }
   ],
   "source": [
    "cpuStats()"
   ]
  },
  {
   "cell_type": "code",
   "execution_count": 4,
   "metadata": {
    "_uuid": "68c8f392935907fed6209e6c2cd3b3ebd9b29f1b"
   },
   "outputs": [
    {
     "name": "stdout",
     "output_type": "stream",
     "text": [
      "Loading the data... This could take a minute.\n",
      "Done!\n"
     ]
    }
   ],
   "source": [
    "# Load training data from API\n",
    "env = twosigmanews.make_env()\n",
    "(market_train_df, news_train_df) = env.get_training_data()"
   ]
  },
  {
   "cell_type": "code",
   "execution_count": 5,
   "metadata": {
    "_uuid": "7bd774619b964c467fabc4cd5a1c5349220ef3f0"
   },
   "outputs": [
    {
     "data": {
      "text/plain": [
       "'memory GB:7.05'"
      ]
     },
     "execution_count": 5,
     "metadata": {},
     "output_type": "execute_result"
    }
   ],
   "source": [
    "cpuStats()"
   ]
  },
  {
   "cell_type": "code",
   "execution_count": 6,
   "metadata": {
    "_uuid": "19cd6279a65dc64624fcf7ae56e4234599f12b7f"
   },
   "outputs": [
    {
     "name": "stdout",
     "output_type": "stream",
     "text": [
      "market_train_df: (4072956, 16)\n"
     ]
    },
    {
     "data": {
      "text/html": [
       "<div>\n",
       "<style scoped>\n",
       "    .dataframe tbody tr th:only-of-type {\n",
       "        vertical-align: middle;\n",
       "    }\n",
       "\n",
       "    .dataframe tbody tr th {\n",
       "        vertical-align: top;\n",
       "    }\n",
       "\n",
       "    .dataframe thead th {\n",
       "        text-align: right;\n",
       "    }\n",
       "</style>\n",
       "<table border=\"1\" class=\"dataframe\">\n",
       "  <thead>\n",
       "    <tr style=\"text-align: right;\">\n",
       "      <th></th>\n",
       "      <th>time</th>\n",
       "      <th>assetCode</th>\n",
       "      <th>assetName</th>\n",
       "      <th>volume</th>\n",
       "      <th>close</th>\n",
       "      <th>open</th>\n",
       "      <th>returnsClosePrevRaw1</th>\n",
       "      <th>returnsOpenPrevRaw1</th>\n",
       "      <th>returnsClosePrevMktres1</th>\n",
       "      <th>returnsOpenPrevMktres1</th>\n",
       "      <th>returnsClosePrevRaw10</th>\n",
       "      <th>returnsOpenPrevRaw10</th>\n",
       "      <th>returnsClosePrevMktres10</th>\n",
       "      <th>returnsOpenPrevMktres10</th>\n",
       "      <th>returnsOpenNextMktres10</th>\n",
       "      <th>universe</th>\n",
       "    </tr>\n",
       "  </thead>\n",
       "  <tbody>\n",
       "    <tr>\n",
       "      <th>0</th>\n",
       "      <td>2007-02-01 22:00:00+00:00</td>\n",
       "      <td>A.N</td>\n",
       "      <td>Agilent Technologies Inc</td>\n",
       "      <td>2606900.0</td>\n",
       "      <td>32.19</td>\n",
       "      <td>32.17</td>\n",
       "      <td>0.005938</td>\n",
       "      <td>0.005312</td>\n",
       "      <td>NaN</td>\n",
       "      <td>NaN</td>\n",
       "      <td>-0.001860</td>\n",
       "      <td>0.000622</td>\n",
       "      <td>NaN</td>\n",
       "      <td>NaN</td>\n",
       "      <td>0.034672</td>\n",
       "      <td>1.0</td>\n",
       "    </tr>\n",
       "    <tr>\n",
       "      <th>1</th>\n",
       "      <td>2007-02-01 22:00:00+00:00</td>\n",
       "      <td>AAI.N</td>\n",
       "      <td>AirTran Holdings Inc</td>\n",
       "      <td>2051600.0</td>\n",
       "      <td>11.12</td>\n",
       "      <td>11.08</td>\n",
       "      <td>0.004517</td>\n",
       "      <td>-0.007168</td>\n",
       "      <td>NaN</td>\n",
       "      <td>NaN</td>\n",
       "      <td>-0.078708</td>\n",
       "      <td>-0.088066</td>\n",
       "      <td>NaN</td>\n",
       "      <td>NaN</td>\n",
       "      <td>0.027803</td>\n",
       "      <td>0.0</td>\n",
       "    </tr>\n",
       "    <tr>\n",
       "      <th>2</th>\n",
       "      <td>2007-02-01 22:00:00+00:00</td>\n",
       "      <td>AAP.N</td>\n",
       "      <td>Advance Auto Parts Inc</td>\n",
       "      <td>1164800.0</td>\n",
       "      <td>37.51</td>\n",
       "      <td>37.99</td>\n",
       "      <td>-0.011594</td>\n",
       "      <td>0.025648</td>\n",
       "      <td>NaN</td>\n",
       "      <td>NaN</td>\n",
       "      <td>0.014332</td>\n",
       "      <td>0.045405</td>\n",
       "      <td>NaN</td>\n",
       "      <td>NaN</td>\n",
       "      <td>0.024433</td>\n",
       "      <td>1.0</td>\n",
       "    </tr>\n",
       "    <tr>\n",
       "      <th>3</th>\n",
       "      <td>2007-02-01 22:00:00+00:00</td>\n",
       "      <td>AAPL.O</td>\n",
       "      <td>Apple Inc</td>\n",
       "      <td>23747329.0</td>\n",
       "      <td>84.74</td>\n",
       "      <td>86.23</td>\n",
       "      <td>-0.011548</td>\n",
       "      <td>0.016324</td>\n",
       "      <td>NaN</td>\n",
       "      <td>NaN</td>\n",
       "      <td>-0.048613</td>\n",
       "      <td>-0.037182</td>\n",
       "      <td>NaN</td>\n",
       "      <td>NaN</td>\n",
       "      <td>-0.007425</td>\n",
       "      <td>1.0</td>\n",
       "    </tr>\n",
       "    <tr>\n",
       "      <th>4</th>\n",
       "      <td>2007-02-01 22:00:00+00:00</td>\n",
       "      <td>ABB.N</td>\n",
       "      <td>ABB Ltd</td>\n",
       "      <td>1208600.0</td>\n",
       "      <td>18.02</td>\n",
       "      <td>18.01</td>\n",
       "      <td>0.011791</td>\n",
       "      <td>0.025043</td>\n",
       "      <td>NaN</td>\n",
       "      <td>NaN</td>\n",
       "      <td>0.012929</td>\n",
       "      <td>0.020397</td>\n",
       "      <td>NaN</td>\n",
       "      <td>NaN</td>\n",
       "      <td>-0.017994</td>\n",
       "      <td>1.0</td>\n",
       "    </tr>\n",
       "  </tbody>\n",
       "</table>\n",
       "</div>"
      ],
      "text/plain": [
       "                       time   ...    universe\n",
       "0 2007-02-01 22:00:00+00:00   ...         1.0\n",
       "1 2007-02-01 22:00:00+00:00   ...         0.0\n",
       "2 2007-02-01 22:00:00+00:00   ...         1.0\n",
       "3 2007-02-01 22:00:00+00:00   ...         1.0\n",
       "4 2007-02-01 22:00:00+00:00   ...         1.0\n",
       "\n",
       "[5 rows x 16 columns]"
      ]
     },
     "execution_count": 6,
     "metadata": {},
     "output_type": "execute_result"
    }
   ],
   "source": [
    "print(f'market_train_df: {market_train_df.shape}')\n",
    "market_train_df.head()"
   ]
  },
  {
   "cell_type": "code",
   "execution_count": 7,
   "metadata": {
    "_uuid": "7ec54afbda5c7539037d677b5d2d1ad6dc52dd44",
    "scrolled": false
   },
   "outputs": [
    {
     "name": "stdout",
     "output_type": "stream",
     "text": [
      "news_train_df: (9328750, 35)\n"
     ]
    },
    {
     "data": {
      "text/html": [
       "<div>\n",
       "<style scoped>\n",
       "    .dataframe tbody tr th:only-of-type {\n",
       "        vertical-align: middle;\n",
       "    }\n",
       "\n",
       "    .dataframe tbody tr th {\n",
       "        vertical-align: top;\n",
       "    }\n",
       "\n",
       "    .dataframe thead th {\n",
       "        text-align: right;\n",
       "    }\n",
       "</style>\n",
       "<table border=\"1\" class=\"dataframe\">\n",
       "  <thead>\n",
       "    <tr style=\"text-align: right;\">\n",
       "      <th></th>\n",
       "      <th>time</th>\n",
       "      <th>sourceTimestamp</th>\n",
       "      <th>firstCreated</th>\n",
       "      <th>sourceId</th>\n",
       "      <th>headline</th>\n",
       "      <th>urgency</th>\n",
       "      <th>takeSequence</th>\n",
       "      <th>provider</th>\n",
       "      <th>subjects</th>\n",
       "      <th>audiences</th>\n",
       "      <th>bodySize</th>\n",
       "      <th>companyCount</th>\n",
       "      <th>headlineTag</th>\n",
       "      <th>marketCommentary</th>\n",
       "      <th>sentenceCount</th>\n",
       "      <th>wordCount</th>\n",
       "      <th>assetCodes</th>\n",
       "      <th>assetName</th>\n",
       "      <th>firstMentionSentence</th>\n",
       "      <th>relevance</th>\n",
       "      <th>sentimentClass</th>\n",
       "      <th>sentimentNegative</th>\n",
       "      <th>sentimentNeutral</th>\n",
       "      <th>sentimentPositive</th>\n",
       "      <th>sentimentWordCount</th>\n",
       "      <th>noveltyCount12H</th>\n",
       "      <th>noveltyCount24H</th>\n",
       "      <th>noveltyCount3D</th>\n",
       "      <th>noveltyCount5D</th>\n",
       "      <th>noveltyCount7D</th>\n",
       "      <th>volumeCounts12H</th>\n",
       "      <th>volumeCounts24H</th>\n",
       "      <th>volumeCounts3D</th>\n",
       "      <th>volumeCounts5D</th>\n",
       "      <th>volumeCounts7D</th>\n",
       "    </tr>\n",
       "  </thead>\n",
       "  <tbody>\n",
       "    <tr>\n",
       "      <th>0</th>\n",
       "      <td>2007-01-01 04:29:32+00:00</td>\n",
       "      <td>2007-01-01 04:29:32+00:00</td>\n",
       "      <td>2007-01-01 04:29:32+00:00</td>\n",
       "      <td>e58c6279551b85cf</td>\n",
       "      <td>China's Daqing pumps 43.41 mln tonnes of oil i...</td>\n",
       "      <td>3</td>\n",
       "      <td>1</td>\n",
       "      <td>RTRS</td>\n",
       "      <td>{'ENR', 'ASIA', 'CN', 'NGS', 'EMRG', 'RTRS', '...</td>\n",
       "      <td>{'Z', 'O', 'OIL'}</td>\n",
       "      <td>1438</td>\n",
       "      <td>1</td>\n",
       "      <td></td>\n",
       "      <td>False</td>\n",
       "      <td>11</td>\n",
       "      <td>275</td>\n",
       "      <td>{'0857.HK', '0857.F', '0857.DE', 'PTR.N'}</td>\n",
       "      <td>PetroChina Co Ltd</td>\n",
       "      <td>6</td>\n",
       "      <td>0.235702</td>\n",
       "      <td>-1</td>\n",
       "      <td>0.500739</td>\n",
       "      <td>0.419327</td>\n",
       "      <td>0.079934</td>\n",
       "      <td>73</td>\n",
       "      <td>0</td>\n",
       "      <td>0</td>\n",
       "      <td>0</td>\n",
       "      <td>0</td>\n",
       "      <td>0</td>\n",
       "      <td>0</td>\n",
       "      <td>0</td>\n",
       "      <td>3</td>\n",
       "      <td>6</td>\n",
       "      <td>7</td>\n",
       "    </tr>\n",
       "    <tr>\n",
       "      <th>1</th>\n",
       "      <td>2007-01-01 07:03:35+00:00</td>\n",
       "      <td>2007-01-01 07:03:34+00:00</td>\n",
       "      <td>2007-01-01 07:03:34+00:00</td>\n",
       "      <td>5a31c4327427f63f</td>\n",
       "      <td>FEATURE-In kidnapping, finesse works best</td>\n",
       "      <td>3</td>\n",
       "      <td>1</td>\n",
       "      <td>RTRS</td>\n",
       "      <td>{'FEA', 'CA', 'LATAM', 'MX', 'INS', 'ASIA', 'I...</td>\n",
       "      <td>{'PGE', 'PCO', 'G', 'ESN', 'MD', 'PCU', 'DNP',...</td>\n",
       "      <td>4413</td>\n",
       "      <td>1</td>\n",
       "      <td>FEATURE</td>\n",
       "      <td>False</td>\n",
       "      <td>55</td>\n",
       "      <td>907</td>\n",
       "      <td>{'STA.N'}</td>\n",
       "      <td>Travelers Companies Inc</td>\n",
       "      <td>8</td>\n",
       "      <td>0.447214</td>\n",
       "      <td>-1</td>\n",
       "      <td>0.600082</td>\n",
       "      <td>0.345853</td>\n",
       "      <td>0.054064</td>\n",
       "      <td>62</td>\n",
       "      <td>1</td>\n",
       "      <td>1</td>\n",
       "      <td>1</td>\n",
       "      <td>1</td>\n",
       "      <td>1</td>\n",
       "      <td>1</td>\n",
       "      <td>1</td>\n",
       "      <td>3</td>\n",
       "      <td>3</td>\n",
       "      <td>3</td>\n",
       "    </tr>\n",
       "    <tr>\n",
       "      <th>2</th>\n",
       "      <td>2007-01-01 11:29:56+00:00</td>\n",
       "      <td>2007-01-01 11:29:56+00:00</td>\n",
       "      <td>2007-01-01 11:29:56+00:00</td>\n",
       "      <td>1cefd27a40fabdfe</td>\n",
       "      <td>PRESS DIGEST - Wall Street Journal - Jan 1</td>\n",
       "      <td>3</td>\n",
       "      <td>1</td>\n",
       "      <td>RTRS</td>\n",
       "      <td>{'RET', 'ENR', 'ID', 'BG', 'US', 'PRESS', 'IQ'...</td>\n",
       "      <td>{'T', 'DNP', 'PSC', 'U', 'D', 'M', 'RNP', 'PTD...</td>\n",
       "      <td>2108</td>\n",
       "      <td>2</td>\n",
       "      <td>PRESS DIGEST</td>\n",
       "      <td>False</td>\n",
       "      <td>15</td>\n",
       "      <td>388</td>\n",
       "      <td>{'WMT.DE', 'WMT.N'}</td>\n",
       "      <td>Wal-Mart Stores Inc</td>\n",
       "      <td>14</td>\n",
       "      <td>0.377964</td>\n",
       "      <td>-1</td>\n",
       "      <td>0.450049</td>\n",
       "      <td>0.295671</td>\n",
       "      <td>0.254280</td>\n",
       "      <td>67</td>\n",
       "      <td>0</td>\n",
       "      <td>0</td>\n",
       "      <td>0</td>\n",
       "      <td>0</td>\n",
       "      <td>0</td>\n",
       "      <td>0</td>\n",
       "      <td>0</td>\n",
       "      <td>5</td>\n",
       "      <td>11</td>\n",
       "      <td>17</td>\n",
       "    </tr>\n",
       "    <tr>\n",
       "      <th>3</th>\n",
       "      <td>2007-01-01 12:08:37+00:00</td>\n",
       "      <td>2007-01-01 12:08:37+00:00</td>\n",
       "      <td>2007-01-01 12:08:37+00:00</td>\n",
       "      <td>23768af19dc69992</td>\n",
       "      <td>PRESS DIGEST - New York Times - Jan 1</td>\n",
       "      <td>3</td>\n",
       "      <td>1</td>\n",
       "      <td>RTRS</td>\n",
       "      <td>{'FUND', 'FIN', 'CA', 'SFWR', 'INS', 'PUB', 'B...</td>\n",
       "      <td>{'T', 'DNP', 'PSC', 'U', 'D', 'M', 'RNP', 'PTD...</td>\n",
       "      <td>1776</td>\n",
       "      <td>6</td>\n",
       "      <td>PRESS DIGEST</td>\n",
       "      <td>False</td>\n",
       "      <td>14</td>\n",
       "      <td>325</td>\n",
       "      <td>{'GOOG.O', 'GOOG.OQ', 'GOOGa.DE'}</td>\n",
       "      <td>Google Inc</td>\n",
       "      <td>13</td>\n",
       "      <td>0.149071</td>\n",
       "      <td>-1</td>\n",
       "      <td>0.752917</td>\n",
       "      <td>0.162715</td>\n",
       "      <td>0.084368</td>\n",
       "      <td>83</td>\n",
       "      <td>0</td>\n",
       "      <td>0</td>\n",
       "      <td>0</td>\n",
       "      <td>0</td>\n",
       "      <td>0</td>\n",
       "      <td>0</td>\n",
       "      <td>0</td>\n",
       "      <td>5</td>\n",
       "      <td>13</td>\n",
       "      <td>15</td>\n",
       "    </tr>\n",
       "    <tr>\n",
       "      <th>4</th>\n",
       "      <td>2007-01-01 12:08:37+00:00</td>\n",
       "      <td>2007-01-01 12:08:37+00:00</td>\n",
       "      <td>2007-01-01 12:08:37+00:00</td>\n",
       "      <td>23768af19dc69992</td>\n",
       "      <td>PRESS DIGEST - New York Times - Jan 1</td>\n",
       "      <td>3</td>\n",
       "      <td>1</td>\n",
       "      <td>RTRS</td>\n",
       "      <td>{'FUND', 'FIN', 'CA', 'SFWR', 'INS', 'PUB', 'B...</td>\n",
       "      <td>{'T', 'DNP', 'PSC', 'U', 'D', 'M', 'RNP', 'PTD...</td>\n",
       "      <td>1776</td>\n",
       "      <td>6</td>\n",
       "      <td>PRESS DIGEST</td>\n",
       "      <td>False</td>\n",
       "      <td>14</td>\n",
       "      <td>325</td>\n",
       "      <td>{'XMSR.O'}</td>\n",
       "      <td>XM Satellite Radio Holdings Inc</td>\n",
       "      <td>11</td>\n",
       "      <td>0.149071</td>\n",
       "      <td>-1</td>\n",
       "      <td>0.699274</td>\n",
       "      <td>0.209360</td>\n",
       "      <td>0.091366</td>\n",
       "      <td>102</td>\n",
       "      <td>0</td>\n",
       "      <td>0</td>\n",
       "      <td>0</td>\n",
       "      <td>0</td>\n",
       "      <td>0</td>\n",
       "      <td>0</td>\n",
       "      <td>0</td>\n",
       "      <td>0</td>\n",
       "      <td>0</td>\n",
       "      <td>0</td>\n",
       "    </tr>\n",
       "  </tbody>\n",
       "</table>\n",
       "</div>"
      ],
      "text/plain": [
       "                       time      ...       volumeCounts7D\n",
       "0 2007-01-01 04:29:32+00:00      ...                    7\n",
       "1 2007-01-01 07:03:35+00:00      ...                    3\n",
       "2 2007-01-01 11:29:56+00:00      ...                   17\n",
       "3 2007-01-01 12:08:37+00:00      ...                   15\n",
       "4 2007-01-01 12:08:37+00:00      ...                    0\n",
       "\n",
       "[5 rows x 35 columns]"
      ]
     },
     "execution_count": 7,
     "metadata": {},
     "output_type": "execute_result"
    }
   ],
   "source": [
    "print(f'news_train_df: {news_train_df.shape}')\n",
    "news_train_df.head()"
   ]
  },
  {
   "cell_type": "markdown",
   "metadata": {
    "_uuid": "8e975b25ea3d8b3ed3f4a4211690f7673013cffc"
   },
   "source": [
    "A simple sanity check inspection of the data."
   ]
  },
  {
   "cell_type": "markdown",
   "metadata": {
    "_uuid": "9fdc0e643bc39d87530c85e6d89845e606c8ba0a"
   },
   "source": [
    "# Helper Functions\n",
    "----"
   ]
  },
  {
   "cell_type": "code",
   "execution_count": 8,
   "metadata": {
    "_uuid": "a4e586ebc88e9da7b8900e6626e06a74c300b713",
    "collapsed": true
   },
   "outputs": [],
   "source": [
    "def label_cat(df, col):\n",
    "    return df[col].astype('category').cat.as_ordered()\n",
    "\n",
    "def bin_encode(df, cols_to_bin):\n",
    "    ce_bin = ce.BinaryEncoder(cols = cols_to_bin)\n",
    "    return ce_bin.fit_transform(df)\n",
    "\n",
    "# Find all features with NaN's\n",
    "def get_null_features(df):\n",
    "    return df.columns[df.isna().any()].tolist()\n",
    "\n",
    "# Returns either month, day or year of date -> expedites feature engineering \n",
    "def get_date_feature(df, col, date_type):\n",
    "    if (date_type == 'year'):\n",
    "        return pd.to_datetime(df[col]).dt.year\n",
    "    elif (date_type == 'month'):\n",
    "        return pd.to_datetime(df[col]).dt.month\n",
    "    elif (date_type == 'quarter'):\n",
    "        return pd.to_datetime(df[col]).dt.quarter\n",
    "    else:\n",
    "        return pd.to_datetime(df[col]).dt.dayofweek\n",
    "\n",
    "# Helper function to print accuracy\n",
    "def print_accuracy(model, x, y, x_val, y_val):\n",
    "    print(\"Training Accuracy Score: \", accuracy_score(model.predict(x), y))\n",
    "    print(\"Validation Accuracy Score: \", accuracy_score(model.predict(x_val), y_val))\n",
    "    \n",
    "# Helper function to get feature importances\n",
    "def get_feature_imp(model, x):\n",
    "    return pd.DataFrame(model.feature_importances_,\n",
    "                                   index = x.columns,\n",
    "                                    columns=['importance']).sort_values('importance', ascending=False)\n",
    "\n",
    "# Calculate the RSI\n",
    "def RSI(series, period):\n",
    "    delta = series.diff().dropna()\n",
    "    u = delta * 0\n",
    "    d = u.copy()\n",
    "    u[delta > 0] = delta[delta > 0]\n",
    "    d[delta < 0] = -delta[delta < 0]\n",
    "    u[u.index[period-1]] = np.mean( u[:period] ) #first value is sum of avg gains\n",
    "    u = u.drop(u.index[:(period-1)])\n",
    "    d[d.index[period-1]] = np.mean( d[:period] ) #first value is sum of avg losses\n",
    "    d = d.drop(d.index[:(period-1)])\n",
    "    rs = u.ewm(com=period-1, adjust=False).mean() / d.ewm(com=period-1, adjust=False).mean()\n",
    "    return 100 - 100 / (1 + rs)\n",
    "\n",
    "# 80%, 20%\n",
    "def temploral_split(df, labels):\n",
    "    X_train, X_val = np.split(df, [int(.8*len(df))])\n",
    "    y_t, y_v = np.split(labels, [int(.8*len(labels))])\n",
    "    \n",
    "    y_train = y_t > 0    \n",
    "    y_val = y_v > 0\n",
    "    \n",
    "    return [X_train, y_train, X_val, y_val]\n",
    "\n",
    "# Join 2 dataframes\n",
    "def join_df(left, right, left_on, right_on=None, suffix='_y'):\n",
    "    if right_on is None: right_on = left_on\n",
    "    return left.merge(right, how='left', left_on=left_on, right_on=right_on, \n",
    "                      suffixes=(\"\", suffix))"
   ]
  },
  {
   "cell_type": "markdown",
   "metadata": {
    "_uuid": "d4d5c7619b651ec73fe079a1e62e9e1e410e68df"
   },
   "source": [
    "## Preparing the Data"
   ]
  },
  {
   "cell_type": "markdown",
   "metadata": {
    "_uuid": "6b0260355fd27e66fb74e3672ce2a300d0f88a5c"
   },
   "source": [
    "Here I have compiled all of the data preprocessing steps into a few functions.  I had to remove a few processes here.  Imputing and normalizing the data caused issues with the test set provided by Kaggle.  The test set is pulled in via a provided python generator and the results I was getting on the provided test set were bizarre after normalizing.  I also removed the tf-idf feature that I experimented with in part 2.  It didn't seem to add much to the model performance and it greatly increased my data preprocessing time.  it was causing my test set process at the bottom of this notebook to take around 30 minutes."
   ]
  },
  {
   "cell_type": "code",
   "execution_count": 9,
   "metadata": {
    "_uuid": "2b807423cae02dff99f9f2a16d4e64e7f278b2ea",
    "collapsed": true
   },
   "outputs": [],
   "source": [
    "# Prep market data\n",
    "def prep_market(df):\n",
    "    # We will be using the assetCode\n",
    "    df.drop(['assetName'], axis=1, inplace=True)\n",
    "    _ = gc.collect()\n",
    "    \n",
    "    df['time'] = df.time.dt.strftime(\"%Y%m%d\").astype(int)\n",
    "    \n",
    "    # Create year, month, day features\n",
    "    df['month'] = get_date_feature(df, 'time', 'month')\n",
    "    df['day'] = get_date_feature(df, 'time', 'day')\n",
    "    df['quarter'] = get_date_feature(df, 'time', 'quarter')\n",
    "    \n",
    "    # Some feature engineering -> moving averages\n",
    "    for n in [14, 30, 50, 200]:\n",
    "        # Create the moving averages\n",
    "        df['close_ma' + str(n)] = df['close'].rolling(window=n).mean()\n",
    "    \n",
    "    # Create RSI -> only 14 was useful during feature exploration\n",
    "    df['rsi14'] = RSI(df['close'], 14)\n",
    "    \n",
    "    # 10 day pct change in volume\n",
    "    df['vol_pct_change'] = df['volume'].pct_change()\n",
    "    df['vol_pct_10'] = df['vol_pct_change'].rolling(window=10).mean()\n",
    "        \n",
    "    # drop 200 rows -> this is because of the moving average calculations\n",
    "    df.dropna(inplace=True)\n",
    "    _ = gc.collect()\n",
    "    \n",
    "    # These were identified in part 2 -> returnsOpenNextMktres10 is the dependant var\n",
    "    train_cols = ['returnsClosePrevRaw10',\n",
    "                  'returnsClosePrevMktres10',  \n",
    "                  'close',\n",
    "                  'rsi14', \n",
    "                  'assetCode',\n",
    "                  'month', \n",
    "                  'close_ma14',\n",
    "                  'close_ma200',\n",
    "                  'close_ma30',\n",
    "                  'volume',\n",
    "                  'close_ma50',\n",
    "                  'returnsClosePrevMktres1', \n",
    "                  'returnsClosePrevRaw1',\n",
    "                  'returnsOpenPrevRaw1',\n",
    "                  'vol_pct_10',\n",
    "                  'day',\n",
    "                  'quarter',\n",
    "                  'time']\n",
    "    \n",
    "    # This is for the final trainin set contidion\n",
    "    if 'returnsOpenNextMktres10' in df.columns:\n",
    "        train_cols = train_cols + ['returnsOpenNextMktres10']\n",
    "    \n",
    "    df = df[train_cols]\n",
    "    \n",
    "    return df"
   ]
  },
  {
   "cell_type": "code",
   "execution_count": 10,
   "metadata": {
    "_uuid": "8c025eaaa825782a19ae51a687f6e934b5db3207",
    "collapsed": true
   },
   "outputs": [],
   "source": [
    "# Prep news data\n",
    "def prep_news(df):\n",
    "    \n",
    "    drop_list = [\n",
    "        'audiences', 'subjects', 'assetName',\n",
    "        'firstCreated', 'sourceTimestamp',\n",
    "    ]\n",
    "    df.drop(drop_list, axis=1, inplace=True)\n",
    "    _ = gc.collect()\n",
    "    \n",
    "    # convert the date\n",
    "    df['time'] = df.time.dt.strftime(\"%Y%m%d\").astype(int)\n",
    "    \n",
    "    # convert the assets codes to a usable format\n",
    "    df['assetCode'] = df['assetCodes'].map(lambda x: list(eval(x))[0])\n",
    "    \n",
    "    # encode provider\n",
    "    df['provider'] = label_cat(df, 'provider').cat.codes\n",
    "\n",
    "    # determine the proportion of the news item discussing the asset\n",
    "    df['coverage'] = df['sentimentWordCount'] / df['wordCount']\n",
    "\n",
    "    # relative position of the first mention in the item\n",
    "    df['position'] = df['firstMentionSentence'] / df['sentenceCount']\n",
    "    \n",
    "    # Drop some unnecessary news features \n",
    "    droplist = ['takeSequence','headlineTag',\n",
    "                'assetCodes', 'headline', 'marketCommentary']\n",
    "\n",
    "    df.drop(droplist, axis=1, inplace=True)\n",
    "    _ = gc.collect()\n",
    "    \n",
    "    # combine multiple news reports for same assets on same day\n",
    "    newsgp = df.groupby(['time','assetCode'], sort=False).aggregate(np.mean).reset_index()\n",
    "    \n",
    "    return newsgp"
   ]
  },
  {
   "cell_type": "code",
   "execution_count": 11,
   "metadata": {
    "_uuid": "1f2c88a81cc8a9ccfea27d594cce1880afc268fb",
    "collapsed": true
   },
   "outputs": [],
   "source": [
    "# Function for all data processing\n",
    "def prep_data(market_train_df, news_train_df):\n",
    "    market_train = prep_market(market_train_df)\n",
    "    news_train = prep_news(news_train_df)\n",
    "    \n",
    "    joined = join_df(market_train, news_train, ['time', 'assetCode'], ['time', 'assetCode'])\n",
    "\n",
    "    # many assets that will have many days without news data\n",
    "    joined[news_train.columns[2:].values] = joined[news_train.columns[2:].values].fillna(value=0)\n",
    "    joined.drop(['time'], axis=1, inplace=True)\n",
    "    # joined['assetCode'] = label_cat(joined, 'assetCode').cat.codes\n",
    "    \n",
    "    del market_train\n",
    "    del news_train\n",
    "    _ = gc.collect()\n",
    "    \n",
    "    return joined"
   ]
  },
  {
   "cell_type": "code",
   "execution_count": 12,
   "metadata": {
    "_uuid": "e52128e42354fffacb3d53df8dcd3fc0057ed096",
    "collapsed": true
   },
   "outputs": [],
   "source": [
    "ts_df = prep_data(market_train_df, news_train_df)"
   ]
  },
  {
   "cell_type": "code",
   "execution_count": 13,
   "metadata": {
    "_uuid": "5074890c0200dfdc98d92571c680a871ee26004b",
    "scrolled": true
   },
   "outputs": [
    {
     "name": "stdout",
     "output_type": "stream",
     "text": [
      "Shape: (3978176, 43)\n"
     ]
    },
    {
     "data": {
      "text/html": [
       "<div>\n",
       "<style scoped>\n",
       "    .dataframe tbody tr th:only-of-type {\n",
       "        vertical-align: middle;\n",
       "    }\n",
       "\n",
       "    .dataframe tbody tr th {\n",
       "        vertical-align: top;\n",
       "    }\n",
       "\n",
       "    .dataframe thead th {\n",
       "        text-align: right;\n",
       "    }\n",
       "</style>\n",
       "<table border=\"1\" class=\"dataframe\">\n",
       "  <thead>\n",
       "    <tr style=\"text-align: right;\">\n",
       "      <th></th>\n",
       "      <th>returnsClosePrevRaw10</th>\n",
       "      <th>returnsClosePrevMktres10</th>\n",
       "      <th>close</th>\n",
       "      <th>rsi14</th>\n",
       "      <th>assetCode</th>\n",
       "      <th>month</th>\n",
       "      <th>close_ma14</th>\n",
       "      <th>close_ma200</th>\n",
       "      <th>close_ma30</th>\n",
       "      <th>volume</th>\n",
       "      <th>close_ma50</th>\n",
       "      <th>returnsClosePrevMktres1</th>\n",
       "      <th>returnsClosePrevRaw1</th>\n",
       "      <th>returnsOpenPrevRaw1</th>\n",
       "      <th>vol_pct_10</th>\n",
       "      <th>day</th>\n",
       "      <th>quarter</th>\n",
       "      <th>returnsOpenNextMktres10</th>\n",
       "      <th>urgency</th>\n",
       "      <th>provider</th>\n",
       "      <th>bodySize</th>\n",
       "      <th>companyCount</th>\n",
       "      <th>sentenceCount</th>\n",
       "      <th>wordCount</th>\n",
       "      <th>firstMentionSentence</th>\n",
       "      <th>relevance</th>\n",
       "      <th>sentimentClass</th>\n",
       "      <th>sentimentNegative</th>\n",
       "      <th>sentimentNeutral</th>\n",
       "      <th>sentimentPositive</th>\n",
       "      <th>sentimentWordCount</th>\n",
       "      <th>noveltyCount12H</th>\n",
       "      <th>noveltyCount24H</th>\n",
       "      <th>noveltyCount3D</th>\n",
       "      <th>noveltyCount5D</th>\n",
       "      <th>noveltyCount7D</th>\n",
       "      <th>volumeCounts12H</th>\n",
       "      <th>volumeCounts24H</th>\n",
       "      <th>volumeCounts3D</th>\n",
       "      <th>volumeCounts5D</th>\n",
       "      <th>volumeCounts7D</th>\n",
       "      <th>coverage</th>\n",
       "      <th>position</th>\n",
       "    </tr>\n",
       "  </thead>\n",
       "  <tbody>\n",
       "    <tr>\n",
       "      <th>0</th>\n",
       "      <td>0.050947</td>\n",
       "      <td>0.039098</td>\n",
       "      <td>33.83</td>\n",
       "      <td>49.188498</td>\n",
       "      <td>A.N</td>\n",
       "      <td>1</td>\n",
       "      <td>41.899857</td>\n",
       "      <td>39.80799</td>\n",
       "      <td>42.904933</td>\n",
       "      <td>4095135.0</td>\n",
       "      <td>41.09636</td>\n",
       "      <td>0.026171</td>\n",
       "      <td>0.027019</td>\n",
       "      <td>0.004262</td>\n",
       "      <td>1.444249</td>\n",
       "      <td>3</td>\n",
       "      <td>1</td>\n",
       "      <td>-0.029993</td>\n",
       "      <td>1.769231</td>\n",
       "      <td>24.307692</td>\n",
       "      <td>3075.846154</td>\n",
       "      <td>1.000000</td>\n",
       "      <td>19.153846</td>\n",
       "      <td>464.384615</td>\n",
       "      <td>1.000000</td>\n",
       "      <td>1.000000</td>\n",
       "      <td>-0.153846</td>\n",
       "      <td>0.183994</td>\n",
       "      <td>0.564769</td>\n",
       "      <td>0.251237</td>\n",
       "      <td>274.692308</td>\n",
       "      <td>2.153846</td>\n",
       "      <td>2.153846</td>\n",
       "      <td>2.153846</td>\n",
       "      <td>2.153846</td>\n",
       "      <td>2.153846</td>\n",
       "      <td>8.153846</td>\n",
       "      <td>8.153846</td>\n",
       "      <td>10.153846</td>\n",
       "      <td>18.153846</td>\n",
       "      <td>19.153846</td>\n",
       "      <td>0.952583</td>\n",
       "      <td>0.644801</td>\n",
       "    </tr>\n",
       "    <tr>\n",
       "      <th>1</th>\n",
       "      <td>0.049460</td>\n",
       "      <td>0.006601</td>\n",
       "      <td>11.67</td>\n",
       "      <td>46.480354</td>\n",
       "      <td>AAI.N</td>\n",
       "      <td>1</td>\n",
       "      <td>37.333429</td>\n",
       "      <td>39.69464</td>\n",
       "      <td>42.268600</td>\n",
       "      <td>1378650.0</td>\n",
       "      <td>39.48856</td>\n",
       "      <td>-0.003326</td>\n",
       "      <td>-0.002564</td>\n",
       "      <td>0.003445</td>\n",
       "      <td>1.257167</td>\n",
       "      <td>3</td>\n",
       "      <td>1</td>\n",
       "      <td>-0.013111</td>\n",
       "      <td>2.400000</td>\n",
       "      <td>24.800000</td>\n",
       "      <td>2355.100000</td>\n",
       "      <td>1.800000</td>\n",
       "      <td>14.000000</td>\n",
       "      <td>406.900000</td>\n",
       "      <td>0.700000</td>\n",
       "      <td>0.906066</td>\n",
       "      <td>0.300000</td>\n",
       "      <td>0.129506</td>\n",
       "      <td>0.597227</td>\n",
       "      <td>0.273268</td>\n",
       "      <td>346.000000</td>\n",
       "      <td>0.800000</td>\n",
       "      <td>0.800000</td>\n",
       "      <td>0.800000</td>\n",
       "      <td>0.800000</td>\n",
       "      <td>0.800000</td>\n",
       "      <td>5.400000</td>\n",
       "      <td>6.100000</td>\n",
       "      <td>8.000000</td>\n",
       "      <td>8.400000</td>\n",
       "      <td>8.400000</td>\n",
       "      <td>0.921061</td>\n",
       "      <td>0.238395</td>\n",
       "    </tr>\n",
       "    <tr>\n",
       "      <th>2</th>\n",
       "      <td>0.033058</td>\n",
       "      <td>0.033965</td>\n",
       "      <td>38.75</td>\n",
       "      <td>50.096165</td>\n",
       "      <td>AAP.N</td>\n",
       "      <td>1</td>\n",
       "      <td>36.466286</td>\n",
       "      <td>39.70244</td>\n",
       "      <td>42.791933</td>\n",
       "      <td>3884400.0</td>\n",
       "      <td>39.90516</td>\n",
       "      <td>0.046114</td>\n",
       "      <td>0.046731</td>\n",
       "      <td>-0.015957</td>\n",
       "      <td>1.527694</td>\n",
       "      <td>3</td>\n",
       "      <td>1</td>\n",
       "      <td>-0.028244</td>\n",
       "      <td>1.666667</td>\n",
       "      <td>24.777778</td>\n",
       "      <td>2150.611111</td>\n",
       "      <td>1.111111</td>\n",
       "      <td>10.944444</td>\n",
       "      <td>321.722222</td>\n",
       "      <td>1.000000</td>\n",
       "      <td>1.000000</td>\n",
       "      <td>-0.166667</td>\n",
       "      <td>0.173526</td>\n",
       "      <td>0.570563</td>\n",
       "      <td>0.255912</td>\n",
       "      <td>154.277778</td>\n",
       "      <td>3.222222</td>\n",
       "      <td>3.222222</td>\n",
       "      <td>3.222222</td>\n",
       "      <td>3.222222</td>\n",
       "      <td>3.277778</td>\n",
       "      <td>11.111111</td>\n",
       "      <td>12.000000</td>\n",
       "      <td>13.055556</td>\n",
       "      <td>13.111111</td>\n",
       "      <td>14.111111</td>\n",
       "      <td>0.848543</td>\n",
       "      <td>0.697263</td>\n",
       "    </tr>\n",
       "    <tr>\n",
       "      <th>3</th>\n",
       "      <td>0.005546</td>\n",
       "      <td>-0.020233</td>\n",
       "      <td>85.21</td>\n",
       "      <td>55.634205</td>\n",
       "      <td>AAPL.O</td>\n",
       "      <td>1</td>\n",
       "      <td>40.362714</td>\n",
       "      <td>39.96674</td>\n",
       "      <td>44.351933</td>\n",
       "      <td>12997017.0</td>\n",
       "      <td>41.07316</td>\n",
       "      <td>-0.002337</td>\n",
       "      <td>-0.001055</td>\n",
       "      <td>0.008035</td>\n",
       "      <td>1.717506</td>\n",
       "      <td>3</td>\n",
       "      <td>1</td>\n",
       "      <td>-0.014505</td>\n",
       "      <td>0.000000</td>\n",
       "      <td>0.000000</td>\n",
       "      <td>0.000000</td>\n",
       "      <td>0.000000</td>\n",
       "      <td>0.000000</td>\n",
       "      <td>0.000000</td>\n",
       "      <td>0.000000</td>\n",
       "      <td>0.000000</td>\n",
       "      <td>0.000000</td>\n",
       "      <td>0.000000</td>\n",
       "      <td>0.000000</td>\n",
       "      <td>0.000000</td>\n",
       "      <td>0.000000</td>\n",
       "      <td>0.000000</td>\n",
       "      <td>0.000000</td>\n",
       "      <td>0.000000</td>\n",
       "      <td>0.000000</td>\n",
       "      <td>0.000000</td>\n",
       "      <td>0.000000</td>\n",
       "      <td>0.000000</td>\n",
       "      <td>0.000000</td>\n",
       "      <td>0.000000</td>\n",
       "      <td>0.000000</td>\n",
       "      <td>0.000000</td>\n",
       "      <td>0.000000</td>\n",
       "    </tr>\n",
       "    <tr>\n",
       "      <th>4</th>\n",
       "      <td>0.025527</td>\n",
       "      <td>0.009882</td>\n",
       "      <td>18.48</td>\n",
       "      <td>47.483559</td>\n",
       "      <td>ABB.N</td>\n",
       "      <td>1</td>\n",
       "      <td>37.394857</td>\n",
       "      <td>39.64679</td>\n",
       "      <td>43.314267</td>\n",
       "      <td>10168100.0</td>\n",
       "      <td>40.55996</td>\n",
       "      <td>-0.035524</td>\n",
       "      <td>-0.033978</td>\n",
       "      <td>-0.022240</td>\n",
       "      <td>1.708858</td>\n",
       "      <td>3</td>\n",
       "      <td>1</td>\n",
       "      <td>0.017172</td>\n",
       "      <td>2.230769</td>\n",
       "      <td>26.000000</td>\n",
       "      <td>983.923077</td>\n",
       "      <td>1.538462</td>\n",
       "      <td>8.076923</td>\n",
       "      <td>188.461538</td>\n",
       "      <td>1.769231</td>\n",
       "      <td>0.919368</td>\n",
       "      <td>0.615385</td>\n",
       "      <td>0.091920</td>\n",
       "      <td>0.332099</td>\n",
       "      <td>0.575981</td>\n",
       "      <td>117.846154</td>\n",
       "      <td>0.923077</td>\n",
       "      <td>0.923077</td>\n",
       "      <td>0.923077</td>\n",
       "      <td>0.923077</td>\n",
       "      <td>1.000000</td>\n",
       "      <td>7.692308</td>\n",
       "      <td>7.692308</td>\n",
       "      <td>11.692308</td>\n",
       "      <td>12.692308</td>\n",
       "      <td>13.692308</td>\n",
       "      <td>0.840292</td>\n",
       "      <td>0.488877</td>\n",
       "    </tr>\n",
       "  </tbody>\n",
       "</table>\n",
       "</div>"
      ],
      "text/plain": [
       "   returnsClosePrevRaw10  returnsClosePrevMktres10    ...     coverage  position\n",
       "0               0.050947                  0.039098    ...     0.952583  0.644801\n",
       "1               0.049460                  0.006601    ...     0.921061  0.238395\n",
       "2               0.033058                  0.033965    ...     0.848543  0.697263\n",
       "3               0.005546                 -0.020233    ...     0.000000  0.000000\n",
       "4               0.025527                  0.009882    ...     0.840292  0.488877\n",
       "\n",
       "[5 rows x 43 columns]"
      ]
     },
     "execution_count": 13,
     "metadata": {},
     "output_type": "execute_result"
    }
   ],
   "source": [
    "print(f'Shape: {ts_df.shape}')\n",
    "ts_df.head()"
   ]
  },
  {
   "cell_type": "code",
   "execution_count": 14,
   "metadata": {
    "_uuid": "8b3c4c4d743510996be2e0722adf5b3b607dee1e",
    "collapsed": true
   },
   "outputs": [],
   "source": [
    "# Save memory\n",
    "del market_train_df\n",
    "del news_train_df\n",
    "_ = gc.collect()"
   ]
  },
  {
   "cell_type": "markdown",
   "metadata": {
    "_uuid": "ad1c3942b4218a076014d3c51acca5d34f231730"
   },
   "source": [
    "## Training"
   ]
  },
  {
   "cell_type": "markdown",
   "metadata": {
    "_uuid": "e917b249872583e62c137f07136b985735872991"
   },
   "source": [
    "As I have said before, since we are dealing with large DataFrames, I am going to start training my models on a small sample of the data. I think it’s important to be able to iterate quickly in the early phases and this will enable me to experiment quickly. I'll start by taking the last (most recent) 200,000 records with an 80/20 split.\n",
    "\n",
    "I could have used GridSearchCV here to find the optimal parameters for my Random forest and GB models.  Using GridSearchCV in its conventional way doesn't make sense here because we are dealing with temporal data.  Cross-validation would destroy the temporal nature.  What I could have done though is manually created my splits in sequence and then passed an array of tuples containing the IDX of these splits for the training data and test data to the cv parameter.  I didn't realize GridSearchCV could be used this way.  Documentation to the rescue!\n",
    "\n",
    "The issue here is that I am facing serious memory limitations due to the size of the data.  GridSearchCV causes my kernel to crash."
   ]
  },
  {
   "cell_type": "code",
   "execution_count": 15,
   "metadata": {
    "_uuid": "a00f8e93aefe57a81c9844546757dd8cc0628fc5",
    "collapsed": true
   },
   "outputs": [],
   "source": [
    "# These cols are needed for the final prediction process\n",
    "train_cols = [col for col in ts_df.columns if col not in ['assetCode', 'universe', 'returnsOpenNextMktres10']]"
   ]
  },
  {
   "cell_type": "code",
   "execution_count": 16,
   "metadata": {
    "_uuid": "8ee2e31a46a50ce1d39de657ec6924f3e509eac8",
    "collapsed": true
   },
   "outputs": [],
   "source": [
    "X_train_sample, y_train_sample, X_val_sample, y_val_sample = temploral_split(ts_df.iloc[-200000:][train_cols], ts_df.iloc[-200000:]['returnsOpenNextMktres10'])"
   ]
  },
  {
   "cell_type": "code",
   "execution_count": 17,
   "metadata": {
    "_uuid": "4349c0155969af798936ba7d39dfa0b038506889",
    "scrolled": true
   },
   "outputs": [
    {
     "name": "stdout",
     "output_type": "stream",
     "text": [
      "X_train_sample: (160000, 41)\n",
      "X_val_sample: (40000, 41)\n"
     ]
    }
   ],
   "source": [
    "print(f'X_train_sample: {X_train_sample.shape}')\n",
    "print(f'X_val_sample: {X_val_sample.shape}')"
   ]
  },
  {
   "cell_type": "code",
   "execution_count": 18,
   "metadata": {
    "_uuid": "d1c386389dd573579bb43b447fd9a71f0c2bf39b"
   },
   "outputs": [
    {
     "name": "stdout",
     "output_type": "stream",
     "text": [
      "CPU times: user 1min 13s, sys: 68 ms, total: 1min 13s\n",
      "Wall time: 19.3 s\n"
     ]
    },
    {
     "data": {
      "text/plain": [
       "RandomForestClassifier(bootstrap=True, class_weight=None, criterion='gini',\n",
       "            max_depth=None, max_features=0.5, max_leaf_nodes=None,\n",
       "            min_impurity_decrease=0.0, min_impurity_split=None,\n",
       "            min_samples_leaf=100, min_samples_split=2,\n",
       "            min_weight_fraction_leaf=0.0, n_estimators=30, n_jobs=-1,\n",
       "            oob_score=False, random_state=23, verbose=0, warm_start=False)"
      ]
     },
     "execution_count": 18,
     "metadata": {},
     "output_type": "execute_result"
    }
   ],
   "source": [
    "rfc = ensemble.RandomForestClassifier(n_estimators=30, min_samples_leaf=100, max_features=0.5, n_jobs=-1, random_state=23)\n",
    "%time rfc.fit(X_train_sample, y_train_sample)"
   ]
  },
  {
   "cell_type": "code",
   "execution_count": 19,
   "metadata": {
    "_uuid": "7a2d4a59630b875997d3a4683c097fb5d0919769",
    "scrolled": true
   },
   "outputs": [
    {
     "name": "stdout",
     "output_type": "stream",
     "text": [
      "Training Accuracy Score:  0.6802375\n",
      "Validation Accuracy Score:  0.5264\n"
     ]
    }
   ],
   "source": [
    "print_accuracy(rfc, X_train_sample, y_train_sample, X_val_sample, y_val_sample)"
   ]
  },
  {
   "cell_type": "markdown",
   "metadata": {
    "_uuid": "f26e182b89f908f72aadc83491468c757baf6493"
   },
   "source": [
    "Seems to be overfitting a little.  In my previous notebook, my RF models were hoving around 52% as well.  Let's try XGBoost and see if my results differ."
   ]
  },
  {
   "cell_type": "code",
   "execution_count": 20,
   "metadata": {
    "_uuid": "e2a9896d0d63109a1aaee2cd412357d436c51679",
    "scrolled": false
   },
   "outputs": [
    {
     "data": {
      "text/html": [
       "<div>\n",
       "<style scoped>\n",
       "    .dataframe tbody tr th:only-of-type {\n",
       "        vertical-align: middle;\n",
       "    }\n",
       "\n",
       "    .dataframe tbody tr th {\n",
       "        vertical-align: top;\n",
       "    }\n",
       "\n",
       "    .dataframe thead th {\n",
       "        text-align: right;\n",
       "    }\n",
       "</style>\n",
       "<table border=\"1\" class=\"dataframe\">\n",
       "  <thead>\n",
       "    <tr style=\"text-align: right;\">\n",
       "      <th></th>\n",
       "      <th>importance</th>\n",
       "    </tr>\n",
       "  </thead>\n",
       "  <tbody>\n",
       "    <tr>\n",
       "      <th>returnsClosePrevMktres10</th>\n",
       "      <td>0.102820</td>\n",
       "    </tr>\n",
       "    <tr>\n",
       "      <th>rsi14</th>\n",
       "      <td>0.094781</td>\n",
       "    </tr>\n",
       "    <tr>\n",
       "      <th>close</th>\n",
       "      <td>0.091995</td>\n",
       "    </tr>\n",
       "    <tr>\n",
       "      <th>returnsClosePrevRaw10</th>\n",
       "      <td>0.089862</td>\n",
       "    </tr>\n",
       "    <tr>\n",
       "      <th>close_ma200</th>\n",
       "      <td>0.086754</td>\n",
       "    </tr>\n",
       "    <tr>\n",
       "      <th>close_ma14</th>\n",
       "      <td>0.085450</td>\n",
       "    </tr>\n",
       "    <tr>\n",
       "      <th>close_ma50</th>\n",
       "      <td>0.077206</td>\n",
       "    </tr>\n",
       "    <tr>\n",
       "      <th>close_ma30</th>\n",
       "      <td>0.075708</td>\n",
       "    </tr>\n",
       "    <tr>\n",
       "      <th>volume</th>\n",
       "      <td>0.065846</td>\n",
       "    </tr>\n",
       "    <tr>\n",
       "      <th>returnsClosePrevMktres1</th>\n",
       "      <td>0.051599</td>\n",
       "    </tr>\n",
       "    <tr>\n",
       "      <th>vol_pct_10</th>\n",
       "      <td>0.051155</td>\n",
       "    </tr>\n",
       "    <tr>\n",
       "      <th>returnsOpenPrevRaw1</th>\n",
       "      <td>0.047819</td>\n",
       "    </tr>\n",
       "    <tr>\n",
       "      <th>returnsClosePrevRaw1</th>\n",
       "      <td>0.043534</td>\n",
       "    </tr>\n",
       "    <tr>\n",
       "      <th>volumeCounts7D</th>\n",
       "      <td>0.004178</td>\n",
       "    </tr>\n",
       "    <tr>\n",
       "      <th>sentimentWordCount</th>\n",
       "      <td>0.002653</td>\n",
       "    </tr>\n",
       "    <tr>\n",
       "      <th>volumeCounts5D</th>\n",
       "      <td>0.002549</td>\n",
       "    </tr>\n",
       "    <tr>\n",
       "      <th>sentimentNegative</th>\n",
       "      <td>0.002046</td>\n",
       "    </tr>\n",
       "    <tr>\n",
       "      <th>coverage</th>\n",
       "      <td>0.001858</td>\n",
       "    </tr>\n",
       "    <tr>\n",
       "      <th>position</th>\n",
       "      <td>0.001810</td>\n",
       "    </tr>\n",
       "    <tr>\n",
       "      <th>sentimentNeutral</th>\n",
       "      <td>0.001674</td>\n",
       "    </tr>\n",
       "    <tr>\n",
       "      <th>sentimentPositive</th>\n",
       "      <td>0.001563</td>\n",
       "    </tr>\n",
       "    <tr>\n",
       "      <th>provider</th>\n",
       "      <td>0.001561</td>\n",
       "    </tr>\n",
       "    <tr>\n",
       "      <th>relevance</th>\n",
       "      <td>0.001553</td>\n",
       "    </tr>\n",
       "    <tr>\n",
       "      <th>bodySize</th>\n",
       "      <td>0.001509</td>\n",
       "    </tr>\n",
       "    <tr>\n",
       "      <th>sentenceCount</th>\n",
       "      <td>0.001458</td>\n",
       "    </tr>\n",
       "    <tr>\n",
       "      <th>companyCount</th>\n",
       "      <td>0.001211</td>\n",
       "    </tr>\n",
       "    <tr>\n",
       "      <th>volumeCounts24H</th>\n",
       "      <td>0.001113</td>\n",
       "    </tr>\n",
       "    <tr>\n",
       "      <th>wordCount</th>\n",
       "      <td>0.001063</td>\n",
       "    </tr>\n",
       "    <tr>\n",
       "      <th>urgency</th>\n",
       "      <td>0.001056</td>\n",
       "    </tr>\n",
       "    <tr>\n",
       "      <th>volumeCounts12H</th>\n",
       "      <td>0.001052</td>\n",
       "    </tr>\n",
       "  </tbody>\n",
       "</table>\n",
       "</div>"
      ],
      "text/plain": [
       "                          importance\n",
       "returnsClosePrevMktres10    0.102820\n",
       "rsi14                       0.094781\n",
       "close                       0.091995\n",
       "returnsClosePrevRaw10       0.089862\n",
       "close_ma200                 0.086754\n",
       "close_ma14                  0.085450\n",
       "close_ma50                  0.077206\n",
       "close_ma30                  0.075708\n",
       "volume                      0.065846\n",
       "returnsClosePrevMktres1     0.051599\n",
       "vol_pct_10                  0.051155\n",
       "returnsOpenPrevRaw1         0.047819\n",
       "returnsClosePrevRaw1        0.043534\n",
       "volumeCounts7D              0.004178\n",
       "sentimentWordCount          0.002653\n",
       "volumeCounts5D              0.002549\n",
       "sentimentNegative           0.002046\n",
       "coverage                    0.001858\n",
       "position                    0.001810\n",
       "sentimentNeutral            0.001674\n",
       "sentimentPositive           0.001563\n",
       "provider                    0.001561\n",
       "relevance                   0.001553\n",
       "bodySize                    0.001509\n",
       "sentenceCount               0.001458\n",
       "companyCount                0.001211\n",
       "volumeCounts24H             0.001113\n",
       "wordCount                   0.001063\n",
       "urgency                     0.001056\n",
       "volumeCounts12H             0.001052"
      ]
     },
     "execution_count": 20,
     "metadata": {},
     "output_type": "execute_result"
    }
   ],
   "source": [
    "feature_importances = get_feature_imp(rfc, X_train_sample)\n",
    "feature_importances[0:30]"
   ]
  },
  {
   "cell_type": "markdown",
   "metadata": {
    "_uuid": "c03245c9a9b461d180e814261cb5b4c728898feb"
   },
   "source": [
    "Interesting to see 4 of the features I created are near the top of the feature importance list."
   ]
  },
  {
   "cell_type": "markdown",
   "metadata": {
    "_uuid": "91692476e3132777979f503f8193683fbe5e6cc4"
   },
   "source": [
    "## XGBoost"
   ]
  },
  {
   "cell_type": "code",
   "execution_count": 21,
   "metadata": {
    "_uuid": "32c7339803e54f1636cefd51e25afe2e07af2e5e"
   },
   "outputs": [
    {
     "name": "stdout",
     "output_type": "stream",
     "text": [
      "CPU times: user 10.7 s, sys: 16 ms, total: 10.7 s\n",
      "Wall time: 2.8 s\n"
     ]
    },
    {
     "data": {
      "text/plain": [
       "XGBClassifier(base_score=0.5, booster='gbtree', colsample_bylevel=1,\n",
       "       colsample_bytree=0.3, gamma=0, learning_rate=0.1, max_delta_step=0,\n",
       "       max_depth=3, min_child_weight=1, missing=None, n_estimators=50,\n",
       "       n_jobs=4, nthread=None, objective='binary:logistic', random_state=0,\n",
       "       reg_alpha=0, reg_lambda=1, scale_pos_weight=1, seed=23, silent=True,\n",
       "       subsample=1)"
      ]
     },
     "execution_count": 21,
     "metadata": {},
     "output_type": "execute_result"
    }
   ],
   "source": [
    "xgb = XGBClassifier(objective='binary:logistic', n_estimators=50, colsample_bytree=0.3, learning_rate=0.1, max_depth=3, n_jobs=4, seed=23)\n",
    "%time  xgb.fit(X_train_sample, y_train_sample)"
   ]
  },
  {
   "cell_type": "code",
   "execution_count": 22,
   "metadata": {
    "_uuid": "d19e170cc83c24ff1d897b6527f28761d913b56a",
    "scrolled": true
   },
   "outputs": [
    {
     "name": "stdout",
     "output_type": "stream",
     "text": [
      "Training Accuracy Score:  0.55454375\n",
      "Validation Accuracy Score:  0.528225\n"
     ]
    }
   ],
   "source": [
    "print_accuracy(xgb, X_train_sample, y_train_sample, X_val_sample, y_val_sample)"
   ]
  },
  {
   "cell_type": "markdown",
   "metadata": {
    "_uuid": "77a86541fe6f27f21c6390ab55513ebe059fa867"
   },
   "source": [
    "Slightly better than the RF model and not overfitting as severely (max_depth is 3).  Let's try tweaking the parameters a little."
   ]
  },
  {
   "cell_type": "code",
   "execution_count": 23,
   "metadata": {
    "_uuid": "921a85983ff43e28fd6c608f00ff243bce7de406"
   },
   "outputs": [
    {
     "name": "stdout",
     "output_type": "stream",
     "text": [
      "CPU times: user 2min 42s, sys: 168 ms, total: 2min 42s\n",
      "Wall time: 41.1 s\n"
     ]
    },
    {
     "data": {
      "text/plain": [
       "XGBClassifier(base_score=0.5, booster='gbtree', colsample_bylevel=1,\n",
       "       colsample_bytree=0.8, gamma=0, learning_rate=0.01, max_delta_step=0,\n",
       "       max_depth=6, min_child_weight=1, missing=None, n_estimators=200,\n",
       "       n_jobs=4, nthread=None, objective='binary:logistic', random_state=0,\n",
       "       reg_alpha=0, reg_lambda=1, scale_pos_weight=1, seed=23, silent=True,\n",
       "       subsample=1)"
      ]
     },
     "execution_count": 23,
     "metadata": {},
     "output_type": "execute_result"
    }
   ],
   "source": [
    "xgb_2 = XGBClassifier(objective='binary:logistic', n_estimators=200, colsample_bytree=0.8, learning_rate=0.01, max_depth=6, n_jobs=4, seed=23)\n",
    "%time  xgb_2.fit(X_train_sample, y_train_sample)"
   ]
  },
  {
   "cell_type": "code",
   "execution_count": 24,
   "metadata": {
    "_uuid": "23f0c26b742e36a0ae15d43fa2ebbb26a0b758f5"
   },
   "outputs": [
    {
     "name": "stdout",
     "output_type": "stream",
     "text": [
      "Training Accuracy Score:  0.58020625\n",
      "Validation Accuracy Score:  0.525\n"
     ]
    }
   ],
   "source": [
    "print_accuracy(xgb_2, X_train_sample, y_train_sample, X_val_sample, y_val_sample)"
   ]
  },
  {
   "cell_type": "markdown",
   "metadata": {
    "_uuid": "5f73a6e4e63a54c7c78c44591598db837d8483fd"
   },
   "source": [
    "Not really much of a change."
   ]
  },
  {
   "cell_type": "markdown",
   "metadata": {
    "_uuid": "4f4658e32e97b6e7c38e778a9ea32a5a3875e382"
   },
   "source": [
    "Instead of using all features, let's try using the top 20 from our RF feature importances."
   ]
  },
  {
   "cell_type": "code",
   "execution_count": 25,
   "metadata": {
    "_uuid": "e769823f16b0bb9899525cbb6d5c3a07a2832999"
   },
   "outputs": [
    {
     "name": "stdout",
     "output_type": "stream",
     "text": [
      "CPU times: user 35.1 s, sys: 60 ms, total: 35.1 s\n",
      "Wall time: 8.89 s\n"
     ]
    },
    {
     "data": {
      "text/plain": [
       "XGBClassifier(base_score=0.5, booster='gbtree', colsample_bylevel=1,\n",
       "       colsample_bytree=0.5, gamma=0, learning_rate=0.01, max_delta_step=0,\n",
       "       max_depth=5, min_child_weight=1, missing=None, n_estimators=100,\n",
       "       n_jobs=4, nthread=None, objective='binary:logistic', random_state=0,\n",
       "       reg_alpha=0, reg_lambda=1, scale_pos_weight=1, seed=23, silent=True,\n",
       "       subsample=1)"
      ]
     },
     "execution_count": 25,
     "metadata": {},
     "output_type": "execute_result"
    }
   ],
   "source": [
    "# feature_importances[0:20]\n",
    "xgb_4 = XGBClassifier(objective='binary:logistic', n_estimators=100, colsample_bytree=0.5, learning_rate=0.01, max_depth=5, n_jobs=4, seed=23)\n",
    "%time  xgb_4.fit(X_train_sample[list(feature_importances[0:20].index)], y_train_sample)"
   ]
  },
  {
   "cell_type": "code",
   "execution_count": 26,
   "metadata": {
    "_uuid": "9efe1acb8448ea93aaf5c0b33cd992f37088e1ca",
    "scrolled": true
   },
   "outputs": [
    {
     "name": "stdout",
     "output_type": "stream",
     "text": [
      "Training Accuracy Score:  0.56085625\n",
      "Validation Accuracy Score:  0.518325\n"
     ]
    }
   ],
   "source": [
    "print_accuracy(xgb_4, X_train_sample[list(feature_importances[0:20].index)], y_train_sample, X_val_sample[list(feature_importances[0:20].index)], y_val_sample)"
   ]
  },
  {
   "cell_type": "markdown",
   "metadata": {
    "_uuid": "b5f993f3de3b374d44ef8da22073468972a882db"
   },
   "source": [
    "Not really any change.  These features might not be very important to the model."
   ]
  },
  {
   "cell_type": "markdown",
   "metadata": {
    "_uuid": "c309083575e4f90d521c32bcdc98164b3368111a"
   },
   "source": [
    "# LGBM"
   ]
  },
  {
   "cell_type": "code",
   "execution_count": 27,
   "metadata": {
    "_uuid": "1824957ff50809f7bce2f272ab00ffe8b0996b2a"
   },
   "outputs": [
    {
     "name": "stdout",
     "output_type": "stream",
     "text": [
      "CPU times: user 17.3 s, sys: 236 ms, total: 17.6 s\n",
      "Wall time: 4.76 s\n"
     ]
    },
    {
     "data": {
      "text/plain": [
       "LGBMClassifier(boosting_type='gbdt', class_weight=None, colsample_bytree=0.8,\n",
       "        importance_type='split', learning_rate=0.01, max_depth=10,\n",
       "        min_child_samples=20, min_child_weight=0.001, min_split_gain=0.0,\n",
       "        n_estimators=200, n_jobs=4, num_leaves=31, objective=None,\n",
       "        random_state=None, reg_alpha=0.0, reg_lambda=0.0, silent=True,\n",
       "        subsample=1.0, subsample_for_bin=200000, subsample_freq=0)"
      ]
     },
     "execution_count": 27,
     "metadata": {},
     "output_type": "execute_result"
    }
   ],
   "source": [
    "lgb = LGBMClassifier(n_estimators=200, learning_rate=0.01, max_depth=10, colsample_bytree=0.8, n_jobs=4)\n",
    "%time lgb.fit(X_train_sample, y_train_sample)"
   ]
  },
  {
   "cell_type": "code",
   "execution_count": 28,
   "metadata": {
    "_uuid": "b8d513426dc9e493085ef2c14162388c5c5ff820"
   },
   "outputs": [
    {
     "name": "stdout",
     "output_type": "stream",
     "text": [
      "Training Accuracy Score:  0.5727\n",
      "Validation Accuracy Score:  0.52505\n"
     ]
    }
   ],
   "source": [
    "print_accuracy(lgb, X_train_sample, y_train_sample, X_val_sample, y_val_sample)"
   ]
  },
  {
   "cell_type": "markdown",
   "metadata": {
    "_uuid": "aca9f50d1b2c2d6c255da9e892f48f3707af9352"
   },
   "source": [
    "The LGBM model trains much faster than XGBoost and we get the same results."
   ]
  },
  {
   "cell_type": "markdown",
   "metadata": {
    "_uuid": "56b9b8759b57297425950a4012885e28acbf2b31"
   },
   "source": [
    "## Random Search\n",
    "\n",
    "Time for some parameter tuning."
   ]
  },
  {
   "cell_type": "code",
   "execution_count": 29,
   "metadata": {
    "_uuid": "ae77848fb4385fb8c6f6a2775ce8dbd938faa6c0",
    "collapsed": true
   },
   "outputs": [],
   "source": [
    "# Let's bump it up to 500,000 records to experiment with\n",
    "X_train_sample, y_train_sample, X_val_sample, y_val_sample = temploral_split(ts_df.iloc[-500000:][train_cols], ts_df.iloc[-500000:]['returnsOpenNextMktres10'])\n",
    "_ = gc.collect()"
   ]
  },
  {
   "cell_type": "code",
   "execution_count": 30,
   "metadata": {
    "_uuid": "b60553aa52793f8fb7c9e439d999fa919d3e2747"
   },
   "outputs": [
    {
     "name": "stdout",
     "output_type": "stream",
     "text": [
      "Best Score: 0.53711\n",
      "Best Paramas: {'learning_rate': 0.05, 'num_leaves': 48, 'n_estimators': 50, 'min_child_samples': 10, 'colsample_bytree': 0.9, 'subsample': 0.95, 'reg_alpha': 0.8, 'reg_lambda': 0.2}\n"
     ]
    }
   ],
   "source": [
    "param_grid = {\n",
    "    'learning_rate': [0.15, 0.1, 0.05, 0.02, 0.01],\n",
    "    'num_leaves': [i for i in range(12, 90, 6)],\n",
    "    'n_estimators': [50, 200, 400, 600, 800],\n",
    "    'min_child_samples': [i for i in range(10, 100, 10)],\n",
    "    'colsample_bytree': [0.8, 0.9, 0.95, 1],\n",
    "    'subsample': [0.8, 0.9, 0.95, 1],\n",
    "    'reg_alpha': [0.1, 0.2, 0.4, 0.6, 0.8],\n",
    "    'reg_lambda': [0.1, 0.2, 0.4, 0.6, 0.8],\n",
    "}\n",
    "\n",
    "best_acc = 0\n",
    "for i in range(10):\n",
    "    params = {k: np.random.choice(v) for k, v in param_grid.items()}\n",
    "\n",
    "    model = LGBMClassifier(**params)\n",
    "    model.fit(X_train_sample, y_train_sample)\n",
    "    acc = accuracy_score(model.predict(X_val_sample), y_val_sample)\n",
    "    \n",
    "    if acc > best_acc or best_acc == 0:\n",
    "        best_acc = acc\n",
    "        best_params = params\n",
    "print(f'Best Score: {best_acc}')\n",
    "print(f'Best Paramas: {best_params}')"
   ]
  },
  {
   "cell_type": "code",
   "execution_count": 31,
   "metadata": {
    "_uuid": "72c4ced42d6ab27d6164439dc9d504f2c14a632f"
   },
   "outputs": [
    {
     "name": "stdout",
     "output_type": "stream",
     "text": [
      "CPU times: user 13.4 s, sys: 460 ms, total: 13.8 s\n",
      "Wall time: 4.13 s\n"
     ]
    },
    {
     "data": {
      "text/plain": [
       "LGBMClassifier(boosting_type='gbdt', class_weight=None, colsample_bytree=0.9,\n",
       "        importance_type='split', learning_rate=0.05, max_depth=-1,\n",
       "        min_child_samples=10, min_child_weight=0.001, min_split_gain=0.0,\n",
       "        n_estimators=50, n_jobs=4, num_leaves=48, objective=None,\n",
       "        random_state=None, reg_alpha=0.8, reg_lambda=0.2, silent=True,\n",
       "        subsample=0.95, subsample_for_bin=200000, subsample_freq=0)"
      ]
     },
     "execution_count": 31,
     "metadata": {},
     "output_type": "execute_result"
    }
   ],
   "source": [
    "lgb = LGBMClassifier(**best_params, n_jobs=4)\n",
    "%time lgb.fit(X_train_sample, y_train_sample)"
   ]
  },
  {
   "cell_type": "code",
   "execution_count": 32,
   "metadata": {
    "_uuid": "7c9c6f92f05497b71fa7dd562d8723b0c98c5fdc"
   },
   "outputs": [
    {
     "name": "stdout",
     "output_type": "stream",
     "text": [
      "Training Accuracy Score:  0.56181\n",
      "Validation Accuracy Score:  0.53711\n"
     ]
    }
   ],
   "source": [
    "print_accuracy(lgb, X_train_sample, y_train_sample, X_val_sample, y_val_sample)"
   ]
  },
  {
   "cell_type": "code",
   "execution_count": 33,
   "metadata": {
    "_uuid": "e9faa34d8b1d121a0455b272e801d7c91f50a73a",
    "collapsed": true
   },
   "outputs": [],
   "source": [
    "del X_train_sample\n",
    "del y_train_sample\n",
    "del X_val_sample\n",
    "del y_val_sample\n",
    "_ = gc.collect()"
   ]
  },
  {
   "cell_type": "markdown",
   "metadata": {
    "_uuid": "58efd4b71e19b0d3ec1076f029418250cbbe7ed8"
   },
   "source": [
    "## Final\n",
    "\n",
    "Time to train a model on the entire dataset."
   ]
  },
  {
   "cell_type": "code",
   "execution_count": 34,
   "metadata": {
    "_uuid": "8980d6a3228bb3df8dc5aa8ff95722cda5f410b2",
    "collapsed": true
   },
   "outputs": [],
   "source": [
    "X_train, y_train, X_val, y_val = temploral_split(ts_df[train_cols], ts_df['returnsOpenNextMktres10'])\n",
    "\n",
    "del ts_df\n",
    "_ = gc.collect()"
   ]
  },
  {
   "cell_type": "code",
   "execution_count": 35,
   "metadata": {
    "_uuid": "04a45e65153d4368a6e1c897497deb1c0595d0e3"
   },
   "outputs": [
    {
     "name": "stdout",
     "output_type": "stream",
     "text": [
      "CPU times: user 2min 4s, sys: 3.66 s, total: 2min 8s\n",
      "Wall time: 36.5 s\n"
     ]
    },
    {
     "data": {
      "text/plain": [
       "LGBMClassifier(boosting_type='gbdt', class_weight=None, colsample_bytree=0.9,\n",
       "        importance_type='split', learning_rate=0.05, max_depth=-1,\n",
       "        min_child_samples=10, min_child_weight=0.001, min_split_gain=0.0,\n",
       "        n_estimators=50, n_jobs=4, num_leaves=48, objective=None,\n",
       "        random_state=None, reg_alpha=0.8, reg_lambda=0.2, silent=True,\n",
       "        subsample=0.95, subsample_for_bin=200000, subsample_freq=0)"
      ]
     },
     "execution_count": 35,
     "metadata": {},
     "output_type": "execute_result"
    }
   ],
   "source": [
    "lgb_final = LGBMClassifier(**best_params, n_jobs=4)\n",
    "%time  lgb_final.fit(X_train, y_train)"
   ]
  },
  {
   "cell_type": "code",
   "execution_count": 36,
   "metadata": {
    "_uuid": "05b0933930f70b0be074ec2d831d3fad5e2011ad"
   },
   "outputs": [
    {
     "name": "stdout",
     "output_type": "stream",
     "text": [
      "Validation Accuracy Score:  0.5411042235394075\n"
     ]
    }
   ],
   "source": [
    "print(\"Validation Accuracy Score: \", accuracy_score(lgb_final.predict(X_val), y_val))"
   ]
  },
  {
   "cell_type": "markdown",
   "metadata": {
    "_uuid": "79737b6eaed224164fd44d82233043758ae6c3eb"
   },
   "source": [
    "## Feature Importances"
   ]
  },
  {
   "cell_type": "code",
   "execution_count": 37,
   "metadata": {
    "_uuid": "a42ec79ca27f4d1dd152e3c8e2b0f8aeb29f0f8b"
   },
   "outputs": [
    {
     "data": {
      "image/png": "[encoded data removed]",
      "text/plain": [
       "<Figure size 576x720 with 1 Axes>"
      ]
     },
     "metadata": {},
     "output_type": "display_data"
    }
   ],
   "source": [
    "feat_importance = pd.DataFrame()\n",
    "feat_importance[\"feature\"] = X_train.columns\n",
    "feat_importance[\"gain\"] = lgb_final.booster_.feature_importance(importance_type='gain')\n",
    "feat_importance.sort_values(by='gain', ascending=False, inplace=True)\n",
    "plt.figure(figsize=(8,10))\n",
    "ax = sns.barplot(y=\"feature\", x=\"gain\", data=feat_importance)"
   ]
  },
  {
   "cell_type": "code",
   "execution_count": null,
   "metadata": {
    "_uuid": "0e9ad3264ff2ff17d8dd51b325054dfb0725c767",
    "collapsed": true
   },
   "outputs": [],
   "source": [
    "del X_train\n",
    "del y_train\n",
    "del X_val\n",
    "del y_val\n",
    "_ = gc.collect()"
   ]
  },
  {
   "cell_type": "markdown",
   "metadata": {
    "_uuid": "2428ddd255bcf9f881fb1365aa836aea5e1a10bc"
   },
   "source": [
    "# Test set"
   ]
  },
  {
   "cell_type": "code",
   "execution_count": null,
   "metadata": {
    "_uuid": "a344dbb16b02ffed9fbc91ea803cdb4df0311759",
    "collapsed": true
   },
   "outputs": [],
   "source": [
    "def write_submission(model, env):\n",
    "    days = env.get_prediction_days()\n",
    "    for (market_df, news_df, predictions_template_df) in days:\n",
    "\n",
    "        pd_df = prep_data(market_df, news_df)\n",
    "        \n",
    "        pd_df = pd_df[pd_df.assetCode.isin(predictions_template_df.assetCode)]\n",
    "        \n",
    "        # Drop cols that are not features\n",
    "        feats = [c for c in pd_df.columns if c not in ['assetCode', 'universe']]\n",
    "        \n",
    "        # (* 2 - 1) used to cap predictions into required confidence intervals\n",
    "        preds = lgb_final.predict_proba(pd_df[feats])[:, 1] * 2 - 1\n",
    "        sub = pd.DataFrame({'assetCode': pd_df['assetCode'], 'confidence': preds})\n",
    "        predictions_template_df = predictions_template_df.merge(sub, how='left').drop(\n",
    "            'confidenceValue', axis=1).fillna(0).rename(columns={'confidence':'confidenceValue'})\n",
    "        \n",
    "        env.predict(predictions_template_df)\n",
    "    env.write_submission_file()\n",
    "    \n",
    "write_submission(lgb_final, env)"
   ]
  }
 ],
 "metadata": {
  "kernelspec": {
   "display_name": "Python 3",
   "language": "python",
   "name": "python3"
  },
  "language_info": {
   "codemirror_mode": {
    "name": "ipython",
    "version": 3
   },
   "file_extension": ".py",
   "mimetype": "text/x-python",
   "name": "python",
   "nbconvert_exporter": "python",
   "pygments_lexer": "ipython3",
   "version": "3.6.3"
  }
 },
 "nbformat": 4,
 "nbformat_minor": 1
}
